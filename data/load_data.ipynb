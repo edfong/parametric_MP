{
 "cells": [
  {
   "cell_type": "code",
   "execution_count": 5,
   "metadata": {},
   "outputs": [],
   "source": [
    "import numpy as np\n",
    "import scipy as sp\n",
    "import pandas as pd"
   ]
  },
  {
   "cell_type": "code",
   "execution_count": 6,
   "metadata": {},
   "outputs": [],
   "source": [
    "from ucimlrepo import fetch_ucirepo \n",
    "  \n",
    "# fetch dataset \n",
    "aids_clinical_trials_group_study_175 = fetch_ucirepo(id=890)"
   ]
  },
  {
   "cell_type": "code",
   "execution_count": 7,
   "metadata": {},
   "outputs": [
    {
     "name": "stdout",
     "output_type": "stream",
     "text": [
      "         cd420       age      wtkg    karnof      cd40      cd80  gender  \\\n",
      "0     0.730927  1.464200  1.107390  0.771656  0.602990 -0.875946       0   \n",
      "1    -1.060207  2.956904 -1.936409 -0.922977 -1.589736 -1.238297       0   \n",
      "2    -0.672935  1.119729  1.004790 -0.922977 -0.206632  2.241519       1   \n",
      "3     0.156934  1.349376  0.765390  0.771656 -0.535541  1.256509       1   \n",
      "4    -0.126605  0.890083 -0.636810  0.771656  1.294542 -0.242874       1   \n",
      "...        ...       ...       ...       ...       ...       ...     ...   \n",
      "2134 -1.814005 -1.636032 -1.645709  0.771656 -1.674072 -0.886359       1   \n",
      "2135 -1.060207 -2.095326  2.099189  0.771656  0.189745  1.608447       1   \n",
      "2136 -0.050533  2.038317 -0.397410 -0.922977  0.577689  0.842096       1   \n",
      "2137 -1.399071 -2.439796 -1.140400  0.771656 -1.556002  0.025766       1   \n",
      "2138  3.863683  1.119729  0.163965  0.771656  4.727002 -0.211637       1   \n",
      "\n",
      "      race  homo  symptom  hemo  drugs  str2  trt_1  trt_2  trt_3  \n",
      "0        0     0        0     0      0     0      0      1      0  \n",
      "1        0     0        0     0      0     1      0      0      1  \n",
      "2        0     1        0     0      1     1      0      0      1  \n",
      "3        0     1        0     0      0     1      0      0      1  \n",
      "4        0     1        0     0      0     1      0      0      0  \n",
      "...    ...   ...      ...   ...    ...   ...    ...    ...    ...  \n",
      "2134     0     0        0     1      0     1      0      0      1  \n",
      "2135     1     0        0     1      0     1      0      0      0  \n",
      "2136     1     1        0     1      0     1      0      1      0  \n",
      "2137     0     0        0     1      0     0      0      0      0  \n",
      "2138     0     0        0     1      0     0      0      0      1  \n",
      "\n",
      "[2139 rows x 16 columns]\n"
     ]
    }
   ],
   "source": [
    "# data (as pandas dataframes) \n",
    "BL_cont = ['age','wtkg','karnof','cd40','cd80']\n",
    "BL_disc = ['trt','gender','race','homo','symptom','hemo','drugs','str2']\n",
    "X_cont = aids_clinical_trials_group_study_175.data.features[BL_cont]\n",
    "X_disc =  aids_clinical_trials_group_study_175.data.features[BL_disc]\n",
    "y = aids_clinical_trials_group_study_175.data.features['cd420'] \n",
    "y = (y - np.mean(y))/np.std(y)\n",
    "\n",
    "# normalize\n",
    "X_cont = (X_cont - X_cont.mean())/(X_cont.std())\n",
    "\n",
    "# create dummies for discrete\n",
    "X_disc = pd.get_dummies(X_disc,columns = ['trt'],drop_first = True,dtype = np.int8)\n",
    "\n",
    "#Merg\n",
    "X = pd.concat((X_cont,X_disc),axis = 1)\n",
    "data = pd.concat((y,X),axis = 1)\n",
    "print(data)\n",
    "data.to_csv(\"AIDS.csv\")\n"
   ]
  },
  {
   "cell_type": "code",
   "execution_count": 8,
   "metadata": {},
   "outputs": [
    {
     "data": {
      "text/plain": [
       "3.071167167613382"
      ]
     },
     "execution_count": 8,
     "metadata": {},
     "output_type": "execute_result"
    }
   ],
   "source": [
    "from sklearn.linear_model import LinearRegression\n",
    "mod = LinearRegression(fit_intercept = False).fit(X,y)\n",
    "resid = y- mod.predict(X)\n",
    "sp.stats.kurtosis(resid)"
   ]
  }
 ],
 "metadata": {
  "kernelspec": {
   "display_name": "Python 3",
   "language": "python",
   "name": "python3"
  },
  "language_info": {
   "codemirror_mode": {
    "name": "ipython",
    "version": 3
   },
   "file_extension": ".py",
   "mimetype": "text/x-python",
   "name": "python",
   "nbconvert_exporter": "python",
   "pygments_lexer": "ipython3",
   "version": "3.9.6"
  }
 },
 "nbformat": 4,
 "nbformat_minor": 2
}
